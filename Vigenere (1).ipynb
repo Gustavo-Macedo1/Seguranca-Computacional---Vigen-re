{
  "nbformat": 4,
  "nbformat_minor": 0,
  "metadata": {
    "colab": {
      "provenance": [],
      "gpuType": "T4"
    },
    "kernelspec": {
      "name": "python3",
      "display_name": "Python 3"
    },
    "language_info": {
      "name": "python"
    },
    "accelerator": "GPU"
  },
  "cells": [
    {
      "cell_type": "code",
      "source": [
        "def gerar_tabua():\n",
        "    tabua = {}\n",
        "    alfabeto = \"abcdefghijklmnopqrstuvwxyz\"\n",
        "\n",
        "    # Para cada letra do alfabeto, gera alfabeto deslocado\n",
        "    for i in range (26):\n",
        "        letra = alfabeto[i]\n",
        "        tabua[letra] = alfabeto[i:] + alfabeto[:i]\n",
        "\n",
        "    return tabua\n",
        "\n",
        "tabua = gerar_tabua()\n",
        "print(tabua)"
      ],
      "metadata": {
        "colab": {
          "base_uri": "https://localhost:8080/"
        },
        "id": "ZzJ94STHmPI8",
        "outputId": "0d8b8095-8c14-45eb-e94b-b1ea6098c8d4"
      },
      "execution_count": 1,
      "outputs": [
        {
          "output_type": "stream",
          "name": "stdout",
          "text": [
            "{'a': 'abcdefghijklmnopqrstuvwxyz', 'b': 'bcdefghijklmnopqrstuvwxyza', 'c': 'cdefghijklmnopqrstuvwxyzab', 'd': 'defghijklmnopqrstuvwxyzabc', 'e': 'efghijklmnopqrstuvwxyzabcd', 'f': 'fghijklmnopqrstuvwxyzabcde', 'g': 'ghijklmnopqrstuvwxyzabcdef', 'h': 'hijklmnopqrstuvwxyzabcdefg', 'i': 'ijklmnopqrstuvwxyzabcdefgh', 'j': 'jklmnopqrstuvwxyzabcdefghi', 'k': 'klmnopqrstuvwxyzabcdefghij', 'l': 'lmnopqrstuvwxyzabcdefghijk', 'm': 'mnopqrstuvwxyzabcdefghijkl', 'n': 'nopqrstuvwxyzabcdefghijklm', 'o': 'opqrstuvwxyzabcdefghijklmn', 'p': 'pqrstuvwxyzabcdefghijklmno', 'q': 'qrstuvwxyzabcdefghijklmnop', 'r': 'rstuvwxyzabcdefghijklmnopq', 's': 'stuvwxyzabcdefghijklmnopqr', 't': 'tuvwxyzabcdefghijklmnopqrs', 'u': 'uvwxyzabcdefghijklmnopqrst', 'v': 'vwxyzabcdefghijklmnopqrstu', 'w': 'wxyzabcdefghijklmnopqrstuv', 'x': 'xyzabcdefghijklmnopqrstuvw', 'y': 'yzabcdefghijklmnopqrstuvwx', 'z': 'zabcdefghijklmnopqrstuvwxy'}\n"
          ]
        }
      ]
    },
    {
      "cell_type": "code",
      "source": [
        "freq_portugues = {\n",
        "        'a':14.63,\n",
        "        'b':1.04,\n",
        "        'c':3.88,\n",
        "        'd':4.99,\n",
        "        'e':12.57,\n",
        "        'f':1.02,\n",
        "        'g':1.30,\n",
        "        'h':1.28,\n",
        "        'i':6.18,\n",
        "        'j':0.40,\n",
        "        'k':0.02,\n",
        "        'l':2.78,\n",
        "        'm':4.74,\n",
        "        'n':5.05,\n",
        "        'o':10.73,\n",
        "        'p':2.52,\n",
        "        'q':1.20,\n",
        "        'r':6.53,\n",
        "        's':7.81,\n",
        "        't':4.34,\n",
        "        'u':4.63,\n",
        "        'v':1.67,\n",
        "        'w':0.01,\n",
        "        'x':0.21,\n",
        "        'y':0.01,\n",
        "        'z':0.47,\n",
        "    }\n",
        "\n",
        "freq_ingles = { 'a':8.167,\n",
        "            'b':1.492,\n",
        "            'c':2.782,\n",
        "            'd':4.253,\n",
        "            'e':12.702,\n",
        "            'f':2.228,\n",
        "            'g':2.015,\n",
        "            'h':6.094,\n",
        "            'i':6.966,\n",
        "            'j':0.153,\n",
        "            'k':0.772,\n",
        "            'l':4.025,\n",
        "            'm':2.406,\n",
        "            'n':6.749,\n",
        "            'o':7.507,\n",
        "            'p':1.929,\n",
        "            'q':0.095,\n",
        "            'r':5.987,\n",
        "            's':6.327,\n",
        "            't':9.056,\n",
        "            'u':2.758,\n",
        "            'v':0.978,\n",
        "            'w':2.360,\n",
        "            'x':0.150,\n",
        "            'y':1.974,\n",
        "            'z':0.074,\n",
        "}"
      ],
      "metadata": {
        "id": "CSoSVNaZdcjy"
      },
      "execution_count": 5,
      "outputs": []
    },
    {
      "cell_type": "code",
      "execution_count": 23,
      "metadata": {
        "colab": {
          "base_uri": "https://localhost:8080/",
          "height": 35
        },
        "id": "mQMsSYZFlQaz",
        "outputId": "7485a5fc-8147-46b5-df28-d96d5a9e443e"
      },
      "outputs": [
        {
          "output_type": "execute_result",
          "data": {
            "text/plain": [
              "'fu toftp dr bnnbnn'"
            ],
            "application/vnd.google.colaboratory.intrinsic+json": {
              "type": "string"
            }
          },
          "metadata": {},
          "execution_count": 23
        }
      ],
      "source": [
        "# Por 'frase', denota-se 'texto plano'.\n",
        "\n",
        "def criptografar(frase, chave):\n",
        "    # Normalização inicial, deixando todos os caracteres em caixa baixa\n",
        "    frase = frase.lower()\n",
        "    chave = chave.lower()\n",
        "\n",
        "    # Gerando dados iniciais para posterior processamento\n",
        "    tabua = gerar_tabua()\n",
        "    tamanho_frase, tamanho_chave = len(frase), len(chave) - 1\n",
        "    posicao = 0\n",
        "    texto_cifrado = \"\"\n",
        "\n",
        "\n",
        "    for i in range(tamanho_frase):\n",
        "        # Recomeça o loop quando ultrapassar o tamanho do texto\n",
        "        if posicao > tamanho_chave:\n",
        "            posicao = 0\n",
        "\n",
        "        # Chave\n",
        "        chave_atual = chave[posicao]\n",
        "        letra_atual = frase[i]\n",
        "\n",
        "        if letra_atual != \" \":\n",
        "            letra_cifrada = tabua[chave_atual][(ord(letra_atual) - ord('a'))]\n",
        "        else:\n",
        "            letra_cifrada = \" \"\n",
        "            posicao -= 1\n",
        "        texto_cifrado += letra_cifrada\n",
        "\n",
        "        posicao += 1\n",
        "\n",
        "    return texto_cifrado\n",
        "\n",
        "frase = \"eu gosto de banana\"\n",
        "chave = \"banana\"\n",
        "\n",
        "criptografar(frase, chave)"
      ]
    },
    {
      "cell_type": "code",
      "source": [
        "def descriptografar(frase_cifrada, chave):\n",
        "    tamanho_frase, tamanho_chave = len(frase_cifrada), len(chave) - 1\n",
        "    posicao = 0\n",
        "    texto_decrifrado = \"\"\n",
        "\n",
        "    for i in range(tamanho_frase):\n",
        "        if posicao > tamanho_chave:\n",
        "            posicao = 0\n",
        "\n",
        "        letra_atual = frase_cifrada[i]\n",
        "        chave_atual = chave[posicao]\n",
        "\n",
        "        if letra_atual != \" \":\n",
        "            letra_real = chr(ord('a') + (tabua[chave_atual].index(letra_atual)))\n",
        "        else:\n",
        "            letra_real = \" \"\n",
        "            posicao -= 1\n",
        "\n",
        "        texto_decrifrado += letra_real\n",
        "\n",
        "        posicao += 1\n",
        "\n",
        "    return texto_decrifrado\n",
        "\n",
        "texto_cifrado = 'fu toftp dr bnnbnn'\n",
        "chave = 'banana'\n",
        "\n",
        "descriptografar(texto_cifrado, chave)"
      ],
      "metadata": {
        "colab": {
          "base_uri": "https://localhost:8080/",
          "height": 35
        },
        "id": "1OyXc1AHnk3A",
        "outputId": "cf50ccf3-90fe-4f9c-d83f-371a377ba24b"
      },
      "execution_count": 24,
      "outputs": [
        {
          "output_type": "execute_result",
          "data": {
            "text/plain": [
              "'eu gosto de banana'"
            ],
            "application/vnd.google.colaboratory.intrinsic+json": {
              "type": "string"
            }
          },
          "metadata": {},
          "execution_count": 24
        }
      ]
    },
    {
      "cell_type": "code",
      "source": [
        "import matplotlib.pyplot as plt\n",
        "\n",
        "x = list(freq_portugues.keys())\n",
        "y = list(freq_portugues.values())\n",
        "\n",
        "plt.title(\"Frequência de letras em português\")\n",
        "plt.xlabel(\"Letras\")\n",
        "plt.ylabel(\"Frequência\")\n",
        "plt.bar(x, y)\n",
        "plt.show()"
      ],
      "metadata": {
        "colab": {
          "base_uri": "https://localhost:8080/",
          "height": 472
        },
        "id": "rFnAA16qLyx_",
        "outputId": "c870feba-3357-432c-9054-c3b696c43542"
      },
      "execution_count": 25,
      "outputs": [
        {
          "output_type": "display_data",
          "data": {
            "text/plain": [
              "<Figure size 640x480 with 1 Axes>"
            ],
            "image/png": "[encoded data removed]"
          },
          "metadata": {}
        }
      ]
    },
    {
      "cell_type": "code",
      "source": [
        "import matplotlib.pyplot as plt\n",
        "\n",
        "x = list(freq_ingles.keys())\n",
        "y = list(freq_ingles.values())\n",
        "\n",
        "plt.title(\"Frequência de letras em inglês\")\n",
        "plt.xlabel(\"Letras\")\n",
        "plt.ylabel(\"Frequência\")\n",
        "plt.bar(x, y)\n",
        "plt.show()"
      ],
      "metadata": {
        "colab": {
          "base_uri": "https://localhost:8080/",
          "height": 472
        },
        "id": "8HTUVAwBL8N-",
        "outputId": "95b2db70-2c10-4e4c-c230-563e31d509a9"
      },
      "execution_count": 26,
      "outputs": [
        {
          "output_type": "display_data",
          "data": {
            "text/plain": [
              "<Figure size 640x480 with 1 Axes>"
            ],
            "image/png": "[encoded data removed]"
          },
          "metadata": {}
        }
      ]
    },
    {
      "cell_type": "code",
      "source": [
        "string = \"banana\"\n",
        "string[:len(string) - 1]"
      ],
      "metadata": {
        "colab": {
          "base_uri": "https://localhost:8080/",
          "height": 35
        },
        "id": "EthEG_yYinwL",
        "outputId": "5230ef14-d5a1-4012-8bef-3eda16e58763"
      },
      "execution_count": 10,
      "outputs": [
        {
          "output_type": "execute_result",
          "data": {
            "text/plain": [
              "'banan'"
            ],
            "application/vnd.google.colaboratory.intrinsic+json": {
              "type": "string"
            }
          },
          "metadata": {},
          "execution_count": 10
        }
      ]
    },
    {
      "cell_type": "code",
      "source": [
        "def checa_coincidencias(texto1, texto2):\n",
        "    coincidencias = 0\n",
        "    len_texto = len(texto1)\n",
        "\n",
        "    for i in range(len_texto):\n",
        "        if texto1[i] == texto2[i]:\n",
        "            coincidencias += 1\n",
        "\n",
        "    return coincidencias\n",
        "\n",
        "def len_chave(texto_cifrado):\n",
        "    len_texto = len(texto_cifrado)\n",
        "    texto_deslocado = texto_cifrado[:len_texto - 1]\n",
        "    indice = 1\n",
        "    coincidencias = []\n",
        "\n",
        "    for i in range(len_texto - 1):\n",
        "        coincidencias.append((checa_coincidencias(texto_cifrado[indice:], texto_deslocado)) / len_texto)\n",
        "        texto_deslocado = texto_deslocado[:-1]\n",
        "        indice += 1\n",
        "\n",
        "    return coincidencias\n"
      ],
      "metadata": {
        "id": "gbTwJwDeMj1-"
      },
      "execution_count": 27,
      "outputs": []
    },
    {
      "cell_type": "code",
      "source": [
        "texto_exemplo = \"A Russia lancou na madrugada deste domingo o maior bombardeio com drones e misseis da guerra contra a Ucrania matando pelo menos nn pessoas e ferindo dezenas em horas de ataques a cidades e vilarejos por todo o pais disseram autoridades ucranianas O ataque ocorreu mesmo com a realizacao da maior troca de prisioneiros da guerra um raro momento de cooperacao entre ambas as nacoes\"\n",
        "texto_exemplo = texto_exemplo.replace(\" \", \"\")\n",
        "key = \"cachorro\"\n",
        "cifrado = criptografar(texto_exemplo, key)\n",
        "descriptografado = descriptografar(cifrado, key)\n",
        "print(cifrado)\n",
        "print(descriptografado)"
      ],
      "metadata": {
        "colab": {
          "base_uri": "https://localhost:8080/"
        },
        "id": "zHz4aadolPIn",
        "outputId": "ed4bf58b-3202-477e-e0dd-d39fa10780ab"
      },
      "execution_count": 28,
      "outputs": [
        {
          "output_type": "stream",
          "name": "stdout",
          "text": [
            "crwzgzrzcnevieracdtburuofeuasufaknivcdrwqrdvasrffekvqfdrtoplgvdwusgpguruwetyotfbvrchitiopictokrbforlzfdspouubgvguoczswvfknfvrvqspaulayffcsflokreweuhqzuofeuljzcotelvggffvofvcgrwudkzgviooawacizrcdgzitiopicuojfovasbsftctrgbavjaqcqtoivonibhqrfrcmcpcikfqccksgiwuiquszicudcnivifcuoyoifaqmguhfuseoqwsirqcoguhivoobczojeoeogz\n",
            "arussialancounamadrugadadestedomingoomaiorbombardeiocomdronesemisseisdaguerracontraaucraniamatandopelomenosnnpessoaseferindodezenasemhorasdeataquesacidadesevilarejosportodoopaisdisseramautoridadesucranianasoataqueocorreumesmocomarealizacaodamaiortrocadeprisioneirosdaguerraumraromomentodecooperacaoentreambasasnacoes\n"
          ]
        }
      ]
    },
    {
      "cell_type": "code",
      "source": [
        "def grafico_coincidencias(texto_cifrado):\n",
        "    x = list(range(len(texto_cifrado) - 1))[:40]\n",
        "    y = len_chave(texto_cifrado)[:40]\n",
        "\n",
        "    plt.figure(figsize=(30, 6))\n",
        "    plt.bar(x, y)\n",
        "    plt.show()"
      ],
      "metadata": {
        "id": "ZAAvBtgOnZ9H"
      },
      "execution_count": 29,
      "outputs": []
    },
    {
      "cell_type": "code",
      "source": [
        "def cria_caixas(texto_cifrado):\n",
        "    n = int(input(\"Digite o tamanho da chave: \"))\n",
        "    rotulos = list(range(n))\n",
        "    caixas = {}\n",
        "\n",
        "    for rotulo in rotulos:\n",
        "        caixas[rotulo] = []\n",
        "\n",
        "    for i in range(len(cifrado)):\n",
        "        rotulo = i % n\n",
        "        caixas[rotulo].append(cifrado[i])\n",
        "\n",
        "    return caixas"
      ],
      "metadata": {
        "id": "AFqzNfEEqt_O"
      },
      "execution_count": 30,
      "outputs": []
    },
    {
      "cell_type": "code",
      "source": [
        "def prepara_caixa(caixa):\n",
        "    alfabeto = \"abcdefghijklmnopqrstuvwxyz\"\n",
        "    map = {}\n",
        "\n",
        "    for letra in alfabeto:\n",
        "        map[letra] = 0\n",
        "\n",
        "    for letra in caixa:\n",
        "        map[letra] += 1\n",
        "\n",
        "    x = list(map.keys())\n",
        "    y = list(map.values())\n",
        "\n",
        "    return [x, y]\n",
        "\n",
        "def mostra_caixa(caixas, i):\n",
        "    caixa = caixas[i]\n",
        "    x, y = prepara_caixa(caixa)\n",
        "\n",
        "    plt.figure(figsize=(6, 1))\n",
        "    plt.title(\"Frequência de letras na caixa atual\")\n",
        "    plt.xlabel(\"Letras\")\n",
        "    plt.ylabel(\"Frequência\")\n",
        "    plt.bar(x, y)\n",
        "    plt.show()\n",
        "\n",
        "caixas = cria_caixas(cifrado)\n",
        "mostra_caixa(caixas, 6)"
      ],
      "metadata": {
        "id": "jOS2FqeP7Gip",
        "colab": {
          "base_uri": "https://localhost:8080/",
          "height": 197
        },
        "outputId": "855e50b1-82b7-4645-f231-d387666ecae6"
      },
      "execution_count": 31,
      "outputs": [
        {
          "name": "stdout",
          "output_type": "stream",
          "text": [
            "Digite o tamanho da chave: 8\n"
          ]
        },
        {
          "output_type": "display_data",
          "data": {
            "text/plain": [
              "<Figure size 600x100 with 1 Axes>"
            ],
            "image/png": "[encoded data removed]"
          },
          "metadata": {}
        }
      ]
    },
    {
      "cell_type": "code",
      "source": [
        "import matplotlib.pyplot as plt\n",
        "\n",
        "def grafico_freq_pt():\n",
        "    freq_portugues = {\n",
        "        'a':14.63,\n",
        "        'b':1.04,\n",
        "        'c':3.88,\n",
        "        'd':4.99,\n",
        "        'e':12.57,\n",
        "        'f':1.02,\n",
        "        'g':1.30,\n",
        "        'h':1.28,\n",
        "        'i':6.18,\n",
        "        'j':0.40,\n",
        "        'k':0.02,\n",
        "        'l':2.78,\n",
        "        'm':4.74,\n",
        "        'n':5.05,\n",
        "        'o':10.73,\n",
        "        'p':2.52,\n",
        "        'q':1.20,\n",
        "        'r':6.53,\n",
        "        's':7.81,\n",
        "        't':4.34,\n",
        "        'u':4.63,\n",
        "        'v':1.67,\n",
        "        'w':0.01,\n",
        "        'x':0.21,\n",
        "        'y':0.01,\n",
        "        'z':0.47,\n",
        "    }\n",
        "\n",
        "    x = list(freq_portugues.keys())\n",
        "    y = list(freq_portugues.values())\n",
        "\n",
        "    plt.figure(figsize=(6, 1))\n",
        "    plt.title(\"Frequência de letras em português\")\n",
        "    plt.xlabel(\"Letras\")\n",
        "    plt.ylabel(\"Frequência\")\n",
        "    plt.bar(x, y)\n",
        "    plt.show()\n",
        "\n",
        "def grafico_freq_en():\n",
        "    freq_ingles = { 'a':8.167,\n",
        "                'b':1.492,\n",
        "                'c':2.782,\n",
        "                'd':4.253,\n",
        "                'e':12.702,\n",
        "                'f':2.228,\n",
        "                'g':2.015,\n",
        "                'h':6.094,\n",
        "                'i':6.966,\n",
        "                'j':0.153,\n",
        "                'k':0.772,\n",
        "                'l':4.025,\n",
        "                'm':2.406,\n",
        "                'n':6.749,\n",
        "                'o':7.507,\n",
        "                'p':1.929,\n",
        "                'q':0.095,\n",
        "                'r':5.987,\n",
        "                's':6.327,\n",
        "                't':9.056,\n",
        "                'u':2.758,\n",
        "                'v':0.978,\n",
        "                'w':2.360,\n",
        "                'x':0.150,\n",
        "                'y':1.974,\n",
        "                'z':0.074,\n",
        "    }\n",
        "\n",
        "    x = list(freq_portugues.keys())\n",
        "    y = list(freq_portugues.values())\n",
        "\n",
        "    plt.figure(figsize=(6, 1))\n",
        "    plt.title(\"Frequência de letras em inglês\")\n",
        "    plt.xlabel(\"Letras\")\n",
        "    plt.ylabel(\"Frequência\")\n",
        "    plt.bar(x, y)\n",
        "    plt.show()"
      ],
      "metadata": {
        "id": "2lqbVptyA77Y"
      },
      "execution_count": 32,
      "outputs": []
    },
    {
      "cell_type": "code",
      "source": [
        "def normalizar(lista):\n",
        "    total = sum(lista)\n",
        "    lista_normalizada = []\n",
        "\n",
        "    for valor in lista:\n",
        "        valor_normalizado = (valor * 100) / total\n",
        "        lista_normalizada.append(valor_normalizado)\n",
        "\n",
        "    return lista_normalizada\n"
      ],
      "metadata": {
        "id": "iFy-rgjLJFAI"
      },
      "execution_count": 33,
      "outputs": []
    },
    {
      "cell_type": "code",
      "source": [
        "def deslocar_direita(x, y):\n",
        "    x1 = x[i:] + x[:i]\n",
        "    y1 = y[i:] + y[:i]\n",
        "    return (x1, y1)\n",
        "\n",
        "def deslocar_esquerda(x, y):\n",
        "    x1 = x[-i:] + x[:-i]\n",
        "    y1 = y[-i:] + y[:-i]\n",
        "    return (x1, y1)\n",
        "\n",
        "def obtem_letra_chave(caixa):\n",
        "    x, y = prepara_caixa(caixa)\n",
        "    print(x)\n",
        "    print(y)\n",
        "\n",
        "    y1 = normalizar(y)\n",
        "    y2 = list(freq_portugues.values())\n",
        "\n",
        "    menor_erro = [9999, 0]\n",
        "    erro_atual = [0, 0]\n",
        "\n",
        "    for i in range(len(y1)):\n",
        "        erro_atual = [0, i]\n",
        "\n",
        "        for j in range(len(y1)):\n",
        "            erro_atual[0] += abs(y1[j] - y2[j])\n",
        "\n",
        "        if erro_atual[0] < menor_erro[0]:\n",
        "            menor_erro[0] = erro_atual[0]\n",
        "            menor_erro[1] = i\n",
        "        x1, y1 = deslocar_esquerda(x, y)\n",
        "\n",
        "    return menor_erro\n",
        "\n",
        "\n",
        "\n",
        "alfabeto = \"abcdefghijklmnopqrstuvwxyz\"\n",
        "map = {}\n",
        "for letra in alfabeto:\n",
        "    map[letra] = 0\n",
        "\n",
        "for letra in caixas[0]:\n",
        "    map[letra] += 1\n",
        "\n",
        "x = list(map.keys())\n",
        "y = list(map.values())\n",
        "\n",
        "x1 = x.copy()\n",
        "y1 = normalizar(y)\n",
        "y2 = list(freq_portugues.values())\n",
        "\n",
        "menor_erro = [9999, 0]\n",
        "erro_atual = [0, 0]\n",
        "\n",
        "iteracoes = 0\n",
        "for i in range(len(y1)):\n",
        "    erro_atual = [0, i]\n",
        "\n",
        "    for j in range(len(y1)):\n",
        "        erro_atual[0] += abs(y1[j] - y2[j])\n",
        "\n",
        "    if erro_atual[0] < menor_erro[0]:\n",
        "        menor_erro[0] = erro_atual[0]\n",
        "        menor_erro[1] = iteracoes\n",
        "\n",
        "    x, y1 = deslocar_esquerda(x, y1)\n",
        "    iteracoes += 1\n",
        "\n",
        "print(menor_erro)\n",
        "\n",
        "# print(obtem_letra_chave(caixas[6]))"
      ],
      "metadata": {
        "id": "R75ICM0uBCan",
        "colab": {
          "base_uri": "https://localhost:8080/"
        },
        "outputId": "dc2bbdd5-aa22-49bc-fed8-5ca585fc95a8"
      },
      "execution_count": 73,
      "outputs": [
        {
          "output_type": "stream",
          "name": "stdout",
          "text": [
            "[105.23000000000002, 5]\n"
          ]
        }
      ]
    },
    {
      "cell_type": "code",
      "source": [
        "print(caixas)"
      ],
      "metadata": {
        "id": "gwEehMq3KV58",
        "colab": {
          "base_uri": "https://localhost:8080/"
        },
        "outputId": "8b037320-c114-4061-9074-650d8a02368d"
      },
      "execution_count": 68,
      "outputs": [
        {
          "output_type": "stream",
          "name": "stdout",
          "text": [
            "{0: ['c', 'c', 'c', 'f', 'k', 'q', 'f', 't', 'u', 'w', 'v', 'p', 'f', 'p', 'u', 'k', 'p', 'c', 'w', 'f', 't', 'v', 'u', 'o', 'c', 'p', 'v', 't', 'q', 'n', 'c', 'q', 'u', 'u', 'c', 'q', 'e', 'c', 'o', 'e'], 1: ['r', 'n', 'd', 'e', 'n', 'r', 'e', 'o', 's', 'e', 'r', 'i', 'o', 'o', 'o', 'n', 'a', 's', 'e', 'e', 'e', 'o', 'd', 'a', 'd', 'i', 'a', 'r', 'c', 'i', 'm', 'c', 'i', 'd', 'u', 'm', 'o', 'o', 'b', 'o'], 2: ['w', 'e', 't', 'u', 'i', 'd', 'k', 'p', 'g', 't', 'c', 'c', 'r', 'u', 'c', 'f', 'u', 'f', 'u', 'u', 'l', 'f', 'k', 'w', 'g', 'c', 's', 'g', 'q', 'b', 'c', 'c', 'q', 'c', 'o', 'g', 'q', 'g', 'c', 'g'], 3: ['z', 'v', 'b', 'a', 'v', 'v', 'v', 'l', 'p', 'y', 'h', 't', 'l', 'u', 'z', 'v', 'l', 'l', 'h', 'l', 'v', 'v', 'z', 'a', 'z', 'u', 'b', 'b', 't', 'h', 'p', 'k', 'u', 'n', 'y', 'u', 'w', 'u', 'z', 'z'], 4: ['g', 'i', 'u', 's', 'c', 'a', 'q', 'g', 'g', 'o', 'i', 'o', 'z', 'b', 's', 'r', 'a', 'o', 'q', 'j', 'g', 'c', 'g', 'c', 'i', 'o', 's', 'a', 'o', 'q', 'c', 's', 's', 'i', 'o', 'h', 's', 'h', 'o'], 5: ['z', 'e', 'r', 'u', 'd', 's', 'f', 'v', 'u', 't', 't', 'k', 'f', 'g', 'w', 'v', 'y', 'k', 'z', 'z', 'g', 'g', 'v', 'i', 't', 'j', 'f', 'v', 'i', 'r', 'i', 'g', 'z', 'v', 'i', 'f', 'i', 'i', 'j'], 6: ['r', 'r', 'u', 'f', 'r', 'r', 'd', 'd', 'r', 'f', 'i', 'r', 'd', 'v', 'v', 'q', 'f', 'r', 'u', 'c', 'f', 'r', 'i', 'z', 'i', 'f', 't', 'j', 'v', 'f', 'k', 'i', 'i', 'i', 'f', 'u', 'r', 'v', 'e'], 7: ['z', 'a', 'o', 'a', 'w', 'f', 'r', 'w', 'u', 'b', 'o', 'b', 's', 'g', 'f', 's', 'f', 'e', 'o', 'o', 'f', 'w', 'o', 'r', 'o', 'o', 'c', 'a', 'o', 'r', 'f', 'w', 'c', 'f', 'a', 's', 'q', 'o', 'o']}\n"
          ]
        }
      ]
    },
    {
      "cell_type": "code",
      "source": [],
      "metadata": {
        "id": "YMR1QD4LTvT6"
      },
      "execution_count": null,
      "outputs": []
    }
  ]
}